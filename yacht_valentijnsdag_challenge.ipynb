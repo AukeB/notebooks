{
 "cells": [
  {
   "cell_type": "code",
   "execution_count": 1,
   "id": "47472784-ecba-48c7-bb7d-2287a4bc4289",
   "metadata": {},
   "outputs": [],
   "source": [
    "import pandas as pd"
   ]
  },
  {
   "cell_type": "code",
   "execution_count": 174,
   "id": "37059f63-793a-4d5e-af5f-11fd6fbf7c0f",
   "metadata": {},
   "outputs": [
    {
     "data": {
      "text/plain": [
       "(44, 16)"
      ]
     },
     "execution_count": 174,
     "metadata": {},
     "output_type": "execute_result"
    }
   ],
   "source": [
    "df = pd.read_csv(\"data/valentijns_data-2.csv\")\n",
    "df.shape"
   ]
  },
  {
   "cell_type": "code",
   "execution_count": 175,
   "id": "36674b97-9c0a-4c07-9e76-9f9acc03f170",
   "metadata": {},
   "outputs": [],
   "source": [
    "columns_rename = {\n",
    "    \"ID\": \"id\",\n",
    "    'Val je op een man, een vrouw of allebei?': \"voorkeur_geslacht\",\n",
    "    'Ben je een man of vrouw?': \"geslacht\",\n",
    "    'Welke uiterlijke kenmerken zijn belangrijk voor jou?': \"voorkeur_haar\",\n",
    "    'Welke uiterlijke kenmerken zijn belangrijk voor jou?.1': \"voorkeur_lengte\",\n",
    "    'Wat is de belangrijkste eigenschap voor jou?': \"voorkeur_eigenschap\",\n",
    "    'Wat is je voornaamste hobby?': \"hobby\",\n",
    "    'Wat is je lengte? (afmeting in cm)': \"lengte\",\n",
    "    'Wat is je haarkleur?': \"haar\",\n",
    "    'Wat is jouw voornaamste eigenschap?': \"eigenschap\",\n",
    "    'Ben je een passief of een dominant persoon?': \"passief_dominant\",\n",
    "    'Waar woon je?': \"woonplaats\",\n",
    "    'Wat is voor jou de ideale date?': \"voorkeur_date\",\n",
    "    'Wat is jouw love language?': \"love_language\",\n",
    "    'Stel je bent verdrietig, hoe kan je getroost worden door je partner? ': \"voorkeur_getroost\",\n",
    "    \"Hoe belangrijk is het voor jou dat je partner dezelfde interesses deelt?\": \"voorkeur_interesse\",\n",
    "}"
   ]
  },
  {
   "cell_type": "code",
   "execution_count": 176,
   "id": "b4441abc-4e93-4373-8189-c8b1b2b96581",
   "metadata": {},
   "outputs": [],
   "source": [
    "df = df.rename(columns=columns_rename)\n",
    "df = df.reindex(sorted(df.columns), axis=1)"
   ]
  },
  {
   "cell_type": "code",
   "execution_count": 177,
   "id": "b682f097-9892-4a31-b066-3f6326dc76ac",
   "metadata": {},
   "outputs": [
    {
     "data": {
      "text/html": [
       "<div>\n",
       "<style scoped>\n",
       "    .dataframe tbody tr th:only-of-type {\n",
       "        vertical-align: middle;\n",
       "    }\n",
       "\n",
       "    .dataframe tbody tr th {\n",
       "        vertical-align: top;\n",
       "    }\n",
       "\n",
       "    .dataframe thead th {\n",
       "        text-align: right;\n",
       "    }\n",
       "</style>\n",
       "<table border=\"1\" class=\"dataframe\">\n",
       "  <thead>\n",
       "    <tr style=\"text-align: right;\">\n",
       "      <th></th>\n",
       "      <th>Ben je een passief of een dominant persoon?</th>\n",
       "      <th>Hoe belangrijk is het voor jou dat je partner dezelfde interesses deelt?</th>\n",
       "      <th>Waar woon je?</th>\n",
       "      <th>Wat is je lengte? (afmeting in cm)</th>\n",
       "      <th>Wat is je voornaamste hobby?</th>\n",
       "      <th>Wat is jouw love language?</th>\n",
       "      <th>Welke uiterlijke kenmerken zijn belangrijk voor jou?</th>\n",
       "      <th>eigenschap</th>\n",
       "      <th>geslacht</th>\n",
       "      <th>haar</th>\n",
       "      <th>id</th>\n",
       "      <th>voorkeur_date</th>\n",
       "      <th>voorkeur_eigenschap</th>\n",
       "      <th>voorkeur_geslacht</th>\n",
       "      <th>voorkeur_getroost</th>\n",
       "      <th>voorkeur_haar</th>\n",
       "    </tr>\n",
       "  </thead>\n",
       "  <tbody>\n",
       "    <tr>\n",
       "      <th>0</th>\n",
       "      <td>Passief</td>\n",
       "      <td>Zeer belangrijk</td>\n",
       "      <td>Rotterdam</td>\n",
       "      <td>175</td>\n",
       "      <td>Sociale activiteiten</td>\n",
       "      <td>Quality time</td>\n",
       "      <td>Lengte boven de 175 cm</td>\n",
       "      <td>Intelligentie</td>\n",
       "      <td>Vrouw</td>\n",
       "      <td>Blond haar</td>\n",
       "      <td>ID_0</td>\n",
       "      <td>Uiteten/ Hapjes of drankjes samen doen</td>\n",
       "      <td>Intelligentie</td>\n",
       "      <td>Man</td>\n",
       "      <td>Dat mijn partner tijd met mij doorbrengt</td>\n",
       "      <td>Bruin haar</td>\n",
       "    </tr>\n",
       "    <tr>\n",
       "      <th>1</th>\n",
       "      <td>Dominant</td>\n",
       "      <td>Niet belangrijk</td>\n",
       "      <td>Utrecht</td>\n",
       "      <td>168</td>\n",
       "      <td>Sociale activiteiten</td>\n",
       "      <td>Quality time</td>\n",
       "      <td>Lengte boven de 175 cm</td>\n",
       "      <td>Volwassenheid/verantwoordelijkheid</td>\n",
       "      <td>Vrouw</td>\n",
       "      <td>Blond haar</td>\n",
       "      <td>ID_1</td>\n",
       "      <td>Uiteten/ Hapjes of drankjes samen doen</td>\n",
       "      <td>Humor</td>\n",
       "      <td>Man</td>\n",
       "      <td>Een lieve knuffel</td>\n",
       "      <td>Bruin haar</td>\n",
       "    </tr>\n",
       "    <tr>\n",
       "      <th>2</th>\n",
       "      <td>Passief</td>\n",
       "      <td>Neutraal</td>\n",
       "      <td>Oss</td>\n",
       "      <td>193</td>\n",
       "      <td>Sport</td>\n",
       "      <td>Physical touch</td>\n",
       "      <td>Lengte boven de 175 cm</td>\n",
       "      <td>Betrouwbaarheid</td>\n",
       "      <td>Man</td>\n",
       "      <td>Bruin haar</td>\n",
       "      <td>ID_2</td>\n",
       "      <td>Uiteten/ Hapjes of drankjes samen doen</td>\n",
       "      <td>Betrouwbaarheid</td>\n",
       "      <td>Vrouw</td>\n",
       "      <td>Door een goed gesprek te voeren</td>\n",
       "      <td>Blond haar</td>\n",
       "    </tr>\n",
       "    <tr>\n",
       "      <th>3</th>\n",
       "      <td>Dominant</td>\n",
       "      <td>Niet belangrijk</td>\n",
       "      <td>Haarlem</td>\n",
       "      <td>170</td>\n",
       "      <td>Sociale activiteiten</td>\n",
       "      <td>Quality time</td>\n",
       "      <td>Lengte boven de 175 cm</td>\n",
       "      <td>Familiemens</td>\n",
       "      <td>Vrouw</td>\n",
       "      <td>Bruin haar</td>\n",
       "      <td>ID_3</td>\n",
       "      <td>Uiteten/ Hapjes of drankjes samen doen</td>\n",
       "      <td>Betrouwbaarheid</td>\n",
       "      <td>Man</td>\n",
       "      <td>Door een goed gesprek te voeren</td>\n",
       "      <td>Bruin haar</td>\n",
       "    </tr>\n",
       "    <tr>\n",
       "      <th>4</th>\n",
       "      <td>Dominant</td>\n",
       "      <td>Niet belangrijk</td>\n",
       "      <td>Utrecht</td>\n",
       "      <td>184</td>\n",
       "      <td>Reizen</td>\n",
       "      <td>Physical touch</td>\n",
       "      <td>Lengte tussen 165 cm en 175 cm</td>\n",
       "      <td>Intelligentie</td>\n",
       "      <td>Man</td>\n",
       "      <td>Bruin haar</td>\n",
       "      <td>ID_4</td>\n",
       "      <td>Uiteten/ Hapjes of drankjes samen doen</td>\n",
       "      <td>Humor</td>\n",
       "      <td>Vrouw</td>\n",
       "      <td>Dat mijn partner tijd met mij doorbrengt</td>\n",
       "      <td>Blond haar</td>\n",
       "    </tr>\n",
       "  </tbody>\n",
       "</table>\n",
       "</div>"
      ],
      "text/plain": [
       "  Ben je een passief of een dominant persoon?   \\\n",
       "0                                      Passief   \n",
       "1                                     Dominant   \n",
       "2                                      Passief   \n",
       "3                                     Dominant   \n",
       "4                                     Dominant   \n",
       "\n",
       "  Hoe belangrijk is het voor jou dat je partner dezelfde interesses deelt?   \\\n",
       "0                                    Zeer belangrijk                          \n",
       "1                                    Niet belangrijk                          \n",
       "2                                           Neutraal                          \n",
       "3                                    Niet belangrijk                          \n",
       "4                                    Niet belangrijk                          \n",
       "\n",
       "  Waar woon je?  Wat is je lengte? (afmeting in cm)   \\\n",
       "0      Rotterdam                                 175   \n",
       "1        Utrecht                                 168   \n",
       "2            Oss                                 193   \n",
       "3        Haarlem                                 170   \n",
       "4        Utrecht                                 184   \n",
       "\n",
       "  Wat is je voornaamste hobby?  Wat is jouw love language?   \\\n",
       "0          Sociale activiteiten                Quality time   \n",
       "1          Sociale activiteiten                Quality time   \n",
       "2                         Sport              Physical touch   \n",
       "3          Sociale activiteiten                Quality time   \n",
       "4                        Reizen              Physical touch   \n",
       "\n",
       "  Welke uiterlijke kenmerken zijn belangrijk voor jou?   \\\n",
       "0                             Lengte boven de 175 cm      \n",
       "1                             Lengte boven de 175 cm      \n",
       "2                             Lengte boven de 175 cm      \n",
       "3                             Lengte boven de 175 cm      \n",
       "4                     Lengte tussen 165 cm en 175 cm      \n",
       "\n",
       "                           eigenschap geslacht        haar    id  \\\n",
       "0                       Intelligentie    Vrouw  Blond haar  ID_0   \n",
       "1  Volwassenheid/verantwoordelijkheid    Vrouw  Blond haar  ID_1   \n",
       "2                     Betrouwbaarheid      Man  Bruin haar  ID_2   \n",
       "3                         Familiemens    Vrouw  Bruin haar  ID_3   \n",
       "4                       Intelligentie      Man  Bruin haar  ID_4   \n",
       "\n",
       "                            voorkeur_date voorkeur_eigenschap  \\\n",
       "0  Uiteten/ Hapjes of drankjes samen doen       Intelligentie   \n",
       "1  Uiteten/ Hapjes of drankjes samen doen               Humor   \n",
       "2  Uiteten/ Hapjes of drankjes samen doen     Betrouwbaarheid   \n",
       "3  Uiteten/ Hapjes of drankjes samen doen     Betrouwbaarheid   \n",
       "4  Uiteten/ Hapjes of drankjes samen doen               Humor   \n",
       "\n",
       "  voorkeur_geslacht                         voorkeur_getroost voorkeur_haar  \n",
       "0               Man  Dat mijn partner tijd met mij doorbrengt    Bruin haar  \n",
       "1               Man                         Een lieve knuffel    Bruin haar  \n",
       "2             Vrouw           Door een goed gesprek te voeren    Blond haar  \n",
       "3               Man           Door een goed gesprek te voeren    Bruin haar  \n",
       "4             Vrouw  Dat mijn partner tijd met mij doorbrengt    Blond haar  "
      ]
     },
     "execution_count": 177,
     "metadata": {},
     "output_type": "execute_result"
    }
   ],
   "source": [
    "df.head()"
   ]
  },
  {
   "cell_type": "code",
   "execution_count": 160,
   "id": "64c46ff3-e798-4f52-8efb-822d29923ca3",
   "metadata": {},
   "outputs": [
    {
     "data": {
      "text/plain": [
       "array(['Intelligentie', 'Volwassenheid/verantwoordelijkheid',\n",
       "       'Betrouwbaarheid', 'Familiemens', 'Humor'], dtype=object)"
      ]
     },
     "execution_count": 160,
     "metadata": {},
     "output_type": "execute_result"
    }
   ],
   "source": [
    "df['eigenschap'].unique()"
   ]
  },
  {
   "cell_type": "code",
   "execution_count": 178,
   "id": "2d06b9aa-6d94-4725-9a44-fe77839aea79",
   "metadata": {},
   "outputs": [
    {
     "data": {
      "text/plain": [
       "array(['Intelligentie', 'Humor', 'Betrouwbaarheid', 'Familiemens',\n",
       "       'Volwassenheid/verantwoordelijkheid'], dtype=object)"
      ]
     },
     "execution_count": 178,
     "metadata": {},
     "output_type": "execute_result"
    }
   ],
   "source": [
    "df['voorkeur_eigenschap'].unique()"
   ]
  },
  {
   "cell_type": "code",
   "execution_count": 179,
   "id": "2ebabba2-1e50-4505-9768-9c5c6cfec526",
   "metadata": {},
   "outputs": [],
   "source": [
    "def create_match_matrix(df, column_name_eigenschap, column_name_voorkeur):\n",
    "    df_eigenschap = df[[column_name_eigenschap, column_name_voorkeur]]\n",
    "    result_df = pd.DataFrame()\n",
    "    \n",
    "    for i1, r1 in df_eigenschap.iterrows():\n",
    "        eigenschap_punten = []\n",
    "        \n",
    "        for i2, r2 in df_eigenschap.iterrows():\n",
    "            if (\n",
    "                (r1[column_name_voorkeur] == r2[column_name_eigenschap]) & \n",
    "                (r2[column_name_voorkeur] == r1[column_name_eigenschap])\n",
    "            ):\n",
    "                eigenschap_punten.append(2)\n",
    "            elif (\n",
    "                (r1[column_name_voorkeur] == r2[column_name_eigenschap]) | \n",
    "                (r2[column_name_voorkeur] == r1[column_name_eigenschap])\n",
    "            ):\n",
    "                eigenschap_punten.append(1)\n",
    "            else:\n",
    "                eigenschap_punten.append(0)\n",
    "        \n",
    "        df_temp = pd.DataFrame(eigenschap_punten)\n",
    "        result_df = pd.concat([result_df, df_temp], axis=1)\n",
    "    \n",
    "    np.fill_diagonal(result_df.values, 0)\n",
    "\n",
    "    column_names = list(np.arange(44))\n",
    "    result_df.columns = column_names\n",
    "\n",
    "    return result_df"
   ]
  },
  {
   "cell_type": "code",
   "execution_count": 180,
   "id": "bcf44715-3a42-44d3-b40c-589626a3fc55",
   "metadata": {},
   "outputs": [],
   "source": [
    "import matplotlib.pyplot as plt\n",
    "import seaborn as sns"
   ]
  },
  {
   "cell_type": "code",
   "execution_count": 181,
   "id": "573e9948-c399-475d-9914-9f20a0724e06",
   "metadata": {},
   "outputs": [
    {
     "data": {
      "image/png": "[encoded data removed]",
      "text/plain": [
       "<Figure size 640x480 with 2 Axes>"
      ]
     },
     "metadata": {},
     "output_type": "display_data"
    }
   ],
   "source": [
    "def add_matrices(df):\n",
    "    eigenschap_dict = {\n",
    "        \"haar\": \"voorkeur_haar\",\n",
    "        \"eigenschap\": \"voorkeur_eigenschap\",\n",
    "        \"geslacht\": \"voorkeur_geslacht\",\n",
    "    }\n",
    "\n",
    "    df_sum = pd.DataFrame()\n",
    "\n",
    "    for index, (key, value) in enumerate(eigenschap_dict.items()):\n",
    "        if index == 0:\n",
    "            result_df = create_match_matrix(df, key, value)\n",
    "        else:\n",
    "            if key == \"geslacht\":\n",
    "                result_df *= create_match_matrix(df, key, value)\n",
    "            else:\n",
    "                result_df += create_match_matrix(df, key, value)\n",
    "\n",
    "    return result_df\n",
    "\n",
    "df_sum = add_matrices(df)\n",
    "sns.heatmap(df_sum)\n",
    "plt.show()\n"
   ]
  },
  {
   "cell_type": "code",
   "execution_count": 166,
   "id": "8aea8ca1-58d4-4076-91ed-970768e6af60",
   "metadata": {},
   "outputs": [
    {
     "data": {
      "text/plain": [
       "Index(['Ben je een passief of een dominant persoon? ',\n",
       "       'Hoe belangrijk is het voor jou dat je partner dezelfde interesses deelt? ',\n",
       "       'Waar woon je? ', 'Wat is je lengte? (afmeting in cm) ',\n",
       "       'Wat is je voornaamste hobby? ', 'Wat is jouw love language? ',\n",
       "       'Welke uiterlijke kenmerken zijn belangrijk voor jou? ', 'eigenschap',\n",
       "       'geslacht', 'haar', 'id', 'voorkeur_date', 'voorkeur_eigenschap',\n",
       "       'voorkeur_geslacht', 'voorkeur_getroost', 'voorkeur_haar'],\n",
       "      dtype='object')"
      ]
     },
     "execution_count": 166,
     "metadata": {},
     "output_type": "execute_result"
    }
   ],
   "source": [
    "df.columns"
   ]
  },
  {
   "cell_type": "code",
   "execution_count": 167,
   "id": "a3d10559-88e9-4485-a0bf-ea728263da83",
   "metadata": {},
   "outputs": [],
   "source": [
    "features = {\n",
    "    \"voorkeur_date\": \"voorkeur_date\",\n",
    "    \"voorkeur_eigenschap\": \"eigenschap\",\n",
    "    \"voorkeur_geslacht\": \"geslacht\",\n",
    "    \"voorkeur_getroost\": \"\",\n",
    "    \"voorkeur_haar\": \"haar\",\n",
    "    \"voorkeur_interesse\": \"\",\n",
    "    \"voorkeur_lengte\": \"\",\n",
    "}\n",
    "\n"
   ]
  },
  {
   "cell_type": "code",
   "execution_count": 169,
   "id": "1ec07eb1-1563-426b-8d5b-fd1034437803",
   "metadata": {},
   "outputs": [
    {
     "data": {
      "text/plain": [
       "array(['Intelligentie', 'Humor', 'Betrouwbaarheid', 'Familiemens',\n",
       "       'Volwassenheid/verantwoordelijkheid'], dtype=object)"
      ]
     },
     "execution_count": 169,
     "metadata": {},
     "output_type": "execute_result"
    }
   ],
   "source": [
    "df[\"voorkeur_eigenschap\"].unique()"
   ]
  },
  {
   "cell_type": "code",
   "execution_count": 142,
   "id": "d9e1cda7-7df3-48a0-b0c3-e9c70fe23bb5",
   "metadata": {},
   "outputs": [],
   "source": [
    "def find_match(df, id):\n",
    "    return df[id].argmax(), df[id].max()"
   ]
  },
  {
   "cell_type": "code",
   "execution_count": 186,
   "id": "c51a107c-f077-4836-989c-8d6004867f74",
   "metadata": {},
   "outputs": [
    {
     "data": {
      "text/plain": [
       "(3, 6)"
      ]
     },
     "execution_count": 186,
     "metadata": {},
     "output_type": "execute_result"
    }
   ],
   "source": [
    "matches = []\n",
    "find_match(df_sum, 11)"
   ]
  }
 ],
 "metadata": {
  "kernelspec": {
   "display_name": "Python 3 (ipykernel)",
   "language": "python",
   "name": "python3"
  },
  "language_info": {
   "codemirror_mode": {
    "name": "ipython",
    "version": 3
   },
   "file_extension": ".py",
   "mimetype": "text/x-python",
   "name": "python",
   "nbconvert_exporter": "python",
   "pygments_lexer": "ipython3",
   "version": "3.10.11"
  }
 },
 "nbformat": 4,
 "nbformat_minor": 5
}
