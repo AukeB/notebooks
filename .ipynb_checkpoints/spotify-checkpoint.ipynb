{
 "cells": [
  {
   "cell_type": "markdown",
   "id": "6f71b1d7-b48b-4c47-a969-0f10ec35dd20",
   "metadata": {},
   "source": [
    "## Imports"
   ]
  },
  {
   "cell_type": "code",
   "execution_count": null,
   "id": "86958b00-5ca8-4c12-bb6c-d241f017ff1c",
   "metadata": {},
   "outputs": [],
   "source": [
    "import base64\n",
    "import requests\n",
    "import webbrowser\n",
    "\n",
    "from typing import Dict\n",
    "from urllib.parse import urlencode\n",
    "from secrets_jael import CLIENT_ID, CLIENT_SECRET, REDIRECT_URI"
   ]
  },
  {
   "cell_type": "markdown",
   "id": "4855646d-c49a-4c6b-a9e8-15d7a4660c55",
   "metadata": {},
   "source": [
    "## Global variables"
   ]
  },
  {
   "cell_type": "code",
   "execution_count": null,
   "id": "8fbdb2be-0e59-4612-b7bb-f22e744c7722",
   "metadata": {},
   "outputs": [],
   "source": [
    "EXCLUDE_PLAYLIST_IDS = [\n",
    "    \"0hL6df9WgT3dn94x9avsmj\", # Benidormhits\n",
    "    \"5ETvL8VsRoeCyHuAdHH8tD\", # Benidormhits 2.0!!! 🕺💃🕺💃\n",
    "    \"0zbWMSnb9X6IBe7LAoMyUS\", # BODØ LIJST\n",
    "    \"0mNu8MWuioORvWke1av1Nb\", # DENEMARKISCHE tunes\n",
    "    \"0fm1PzWA7jf7nseT2BTDX2\", # Superlijst (Bodø)\n",
    "]"
   ]
  },
  {
   "cell_type": "code",
   "execution_count": null,
   "id": "9ccf5322-155a-4486-bbab-d2bbbea8052c",
   "metadata": {},
   "outputs": [],
   "source": [
    "SCOPE = \"playlist-read-private playlist-read-collaborative user-library-read user-library-modify\"\n",
    "AUTHORIZATION_URL = 'https://accounts.spotify.com/api/token'\n",
    "\n",
    "authentication_params = {\n",
    "    \"response_type\": \"code\",\n",
    "    \"client_id\": CLIENT_ID,\n",
    "    \"redirect_uri\": REDIRECT_URI,\n",
    "    \"scope\": SCOPE,\n",
    "}\n",
    "\n",
    "webbrowser.open(\"https://accounts.spotify.com/authorize?\" + urlencode(authentication_params))"
   ]
  },
  {
   "cell_type": "code",
   "execution_count": null,
   "id": "b7e8346a-4047-497d-aa0c-2fe53a8e7c97",
   "metadata": {},
   "outputs": [],
   "source": [
    "AUTHORIZATION_CODE = \"removed\""
   ]
  },
  {
   "cell_type": "code",
   "execution_count": null,
   "id": "e802a3a2-b8dd-4f7f-bded-5324d63316bc",
   "metadata": {},
   "outputs": [],
   "source": [
    "encoded_credentials = base64.b64encode(CLIENT_ID.encode() + b':' + CLIENT_SECRET.encode()).decode(\"utf-8\")\n",
    "\n",
    "token_headers = {\n",
    "    \"Authorization\": \"Basic \" + encoded_credentials,\n",
    "    \"Content-Type\": \"application/x-www-form-urlencoded\"\n",
    "}\n",
    "\n",
    "token_data = {\n",
    "    \"grant_type\": \"authorization_code\",\n",
    "    \"code\": AUTHORIZATION_CODE,\n",
    "    \"redirect_uri\": REDIRECT_URI\n",
    "}\n",
    "\n",
    "r = requests.post(\n",
    "    AUTHORIZATION_URL,\n",
    "    data=token_data,\n",
    "    headers=token_headers\n",
    ")\n",
    "\n",
    "r"
   ]
  },
  {
   "cell_type": "code",
   "execution_count": null,
   "id": "18de41b6-d9d2-4382-9663-fb5a61e96a74",
   "metadata": {},
   "outputs": [],
   "source": [
    "token = r.json()[\"access_token\"]\n",
    "token"
   ]
  },
  {
   "cell_type": "markdown",
   "id": "0e4ca805-8b80-40f1-90b4-2fa81047d71b",
   "metadata": {},
   "source": [
    "## Functions"
   ]
  },
  {
   "cell_type": "code",
   "execution_count": null,
   "id": "15466548-1e62-4556-8350-107dc62df2f7",
   "metadata": {},
   "outputs": [],
   "source": [
    "def obtain_access_token(\n",
    "    auth_url: str=AUTH_URL,\n",
    "    authentication_params: Dict[str, str]=AUTHENTICATION_PARAMS\n",
    ") -> str:\n",
    "    \"\"\" \"\"\"\n",
    "    auth_response = requests.post(auth_url, data=authentication_params)\n",
    "    access_token = auth_response.json().get('access_token')\n",
    "    return access_token\n",
    "\n",
    "def get_spotify_playlists(access_token):\n",
    "    playlists = []\n",
    "    url = \"https://api.spotify.com/v1/me/playlists\"\n",
    "    headers = {\n",
    "        \"Authorization\": f\"Bearer {access_token}\"\n",
    "    }\n",
    "    \n",
    "    while url:\n",
    "        response = requests.get(url, headers=headers)\n",
    "        if response.status_code != 200:\n",
    "            raise Exception(f\"Failed to get playlists: {response.status_code}, {response.text}\")\n",
    "        \n",
    "        data = response.json()\n",
    "        playlists.extend(data['items'])\n",
    "        url = data['next']\n",
    "    \n",
    "    return playlists\n",
    "\n",
    "def get_liked_songs(access_token):\n",
    "    url = 'https://api.spotify.com/v1/me/tracks'\n",
    "    headers = {\n",
    "        'Authorization': f'Bearer {access_token}'\n",
    "    }\n",
    "    \n",
    "    # Parameters to handle pagination\n",
    "    params = {\n",
    "        'limit': 50,  # Maximum number of items to return (between 1 and 50)\n",
    "        'offset': 0   # The index of the first item to return\n",
    "    }\n",
    "    \n",
    "    all_songs = []\n",
    "    while True:\n",
    "        response = requests.get(url, headers=headers, params=params)\n",
    "        \n",
    "        if response.status_code != 200:\n",
    "            print(f\"Failed to get liked songs, status code: {response.status_code}\")\n",
    "            print(response.json())\n",
    "            break\n",
    "        \n",
    "        data = response.json()\n",
    "        all_songs.extend(data['items'])\n",
    "        \n",
    "        # Check if there are more songs to fetch\n",
    "        if data['next'] is None:\n",
    "            break\n",
    "        \n",
    "        # Update the offset to get the next set of songs\n",
    "        params['offset'] += params['limit']\n",
    "    \n",
    "    return all_songs\n",
    "\n",
    "def save_song_to_library(access_token, song_id):\n",
    "    url = 'https://api.spotify.com/v1/me/tracks'\n",
    "    headers = {\n",
    "        'Authorization': f'Bearer {access_token}',\n",
    "        'Content-Type': 'application/json'\n",
    "    }\n",
    "    params = {\n",
    "        'ids': song_id\n",
    "    }\n",
    "    \n",
    "    response = requests.put(url, headers=headers, params=params)\n",
    "    \n",
    "    if response.status_code == 200:\n",
    "        print(f\"Successfully saved song with ID {song_id} to the library.\")\n",
    "    else:\n",
    "        print(f\"Failed to save song, status code: {response.status_code}\")\n",
    "        print(response.json())\n",
    "\n",
    "def get_playlist_song_ids(access_token, playlist_id):\n",
    "    url = f'https://api.spotify.com/v1/playlists/{playlist_id}/tracks'\n",
    "    headers = {\n",
    "        'Authorization': f'Bearer {access_token}'\n",
    "    }\n",
    "    \n",
    "    # Parameters to handle pagination\n",
    "    params = {\n",
    "        'limit': 100,  # Maximum number of items to return (between 1 and 100)\n",
    "        'offset': 0    # The index of the first item to return\n",
    "    }\n",
    "    \n",
    "    song_ids = []\n",
    "    while True:\n",
    "        response = requests.get(url, headers=headers, params=params)\n",
    "        \n",
    "        if response.status_code != 200:\n",
    "            print(f\"Failed to get songs from playlist, status code: {response.status_code}\")\n",
    "            print(response.json())\n",
    "            break\n",
    "        \n",
    "        data = response.json()\n",
    "        for item in data['items']:\n",
    "            song_ids.append(item['track']['id'])\n",
    "        \n",
    "        # Check if there are more songs to fetch\n",
    "        if data['next'] is None:\n",
    "            break\n",
    "        \n",
    "        # Update the offset to get the next set of songs\n",
    "        params['offset'] += params['limit']\n",
    "    \n",
    "    return song_ids"
   ]
  },
  {
   "cell_type": "markdown",
   "id": "cf544d3a-5b3b-44a6-b50a-2b09f2874524",
   "metadata": {},
   "source": [
    "## Run script"
   ]
  },
  {
   "cell_type": "code",
   "execution_count": null,
   "id": "16ef99dd-8b0a-49f5-a9ca-488a20972726",
   "metadata": {},
   "outputs": [],
   "source": [
    "# Get playlist IDs\n",
    "all_playlists = get_spotify_playlists(token)\n",
    "playlist_ids = [x[\"id\"] for x in all_playlists]\n",
    "len(playlist_ids)"
   ]
  },
  {
   "cell_type": "code",
   "execution_count": null,
   "id": "4782bf9d-4be6-407d-88a6-1c4396131828",
   "metadata": {},
   "outputs": [],
   "source": [
    "# Exclude the manually defined playlist ids.\n",
    "playlist_ids = [x for x in playlist_ids if x not in EXCLUDE_PLAYLIST_IDS]"
   ]
  },
  {
   "cell_type": "code",
   "execution_count": null,
   "id": "f2d77504-d933-4ece-b644-668cd6ad8ffa",
   "metadata": {},
   "outputs": [],
   "source": [
    "# Obtain all song_ids for all the playlists.\n",
    "song_ids = []\n",
    "\n",
    "for playlist_id in playlist_ids:\n",
    "    song_ids.append(get_playlist_song_ids(access_token=token, playlist_id=playlist_id))\n",
    "\n",
    "song_ids = [x for sublist in song_ids for x in sublist]"
   ]
  },
  {
   "cell_type": "code",
   "execution_count": null,
   "id": "534bc4dc-0699-4304-b265-d5c25d0503bd",
   "metadata": {},
   "outputs": [],
   "source": [
    "# Like all songs.\n",
    "for song_id in song_ids:\n",
    "    pass\n",
    "    # save_song_to_library(\n",
    "    #     access_token=token,\n",
    "    #     song_id=song_id\n",
    "    # )"
   ]
  },
  {
   "cell_type": "code",
   "execution_count": null,
   "id": "e8d1555d-e73d-46fa-8c8c-f0370df92936",
   "metadata": {},
   "outputs": [],
   "source": [
    "liked_songs = get_liked_songs(token)\n",
    "print(f\"Total liked songs: {len(liked_songs)}\")"
   ]
  }
 ],
 "metadata": {
  "kernelspec": {
   "display_name": "Python 3 (ipykernel)",
   "language": "python",
   "name": "python3"
  },
  "language_info": {
   "codemirror_mode": {
    "name": "ipython",
    "version": 3
   },
   "file_extension": ".py",
   "mimetype": "text/x-python",
   "name": "python",
   "nbconvert_exporter": "python",
   "pygments_lexer": "ipython3",
   "version": "3.10.11"
  }
 },
 "nbformat": 4,
 "nbformat_minor": 5
}
