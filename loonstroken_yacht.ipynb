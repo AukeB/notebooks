{
 "cells": [
  {
   "cell_type": "markdown",
   "id": "ff06888e-66bf-40ce-b101-b56045d84551",
   "metadata": {},
   "source": [
    "## Imports"
   ]
  },
  {
   "cell_type": "code",
   "execution_count": null,
   "id": "ad329067-c292-4e9c-b403-3f0f0d08e59f",
   "metadata": {},
   "outputs": [],
   "source": [
    "import pandas as pd"
   ]
  },
  {
   "cell_type": "markdown",
   "id": "072f24a1-e7e2-4ee8-a075-d7ca3d36377f",
   "metadata": {},
   "source": [
    "## Settings"
   ]
  },
  {
   "cell_type": "code",
   "execution_count": null,
   "id": "e62c485e-1d43-4254-a79e-5e22be1d6482",
   "metadata": {},
   "outputs": [],
   "source": [
    "#pd.set_option('float_format', '{:.2f}'.format)"
   ]
  },
  {
   "cell_type": "markdown",
   "id": "2fc77ae9-5ec0-49da-82bc-97e0ea5cbfa5",
   "metadata": {},
   "source": [
    "## Manual input of the data"
   ]
  },
  {
   "cell_type": "markdown",
   "id": "2fff2dd6-7557-462e-a746-c6907ff7f7db",
   "metadata": {},
   "source": [
    "### Each period"
   ]
  },
  {
   "cell_type": "code",
   "execution_count": null,
   "id": "ed1e7663-496c-4aea-867d-09d8d58533a2",
   "metadata": {},
   "outputs": [],
   "source": [
    "dict_2023_12 = {\n",
    "    'jaar_periode': '',\n",
    "    'uur_loon': ,\n",
    "    'uren_gewerkt': ,\n",
    "    'uren_vakantie': ,\n",
    "    'percentage_compensatie_premie_paww': ,\n",
    "    'percentage_premie_paww': ,\n",
    "    'percentage_pensioen_premie': ,\n",
    "}\n",
    "\n",
    "dict_2023_13 = {\n",
    "    'jaar_periode': '',\n",
    "    'uur_loon': ,\n",
    "    'uren_feestdag': ,\n",
    "    'uren_gewerkt': ,\n",
    "    'uren_vakantie': \n",
    "}\n",
    "\n",
    "list_of_all_dicts = [dict_2023_12, dict_2023_13]"
   ]
  },
  {
   "cell_type": "markdown",
   "id": "9806ccc9-72e2-4e3d-bbfd-3646f47895d2",
   "metadata": {},
   "source": [
    "### Convert the list of dictionaries to a Pandas DataFrame."
   ]
  },
  {
   "cell_type": "code",
   "execution_count": null,
   "id": "87b8a90b-d064-4cce-aef0-d356c81e737d",
   "metadata": {},
   "outputs": [],
   "source": [
    "df = pd.DataFrame()\n",
    "\n",
    "df = pd.concat(\n",
    "    [pd.DataFrame([salary_dict]) for salary_dict in list_of_all_dicts],\n",
    "    ignore_index=True\n",
    ")\n",
    "\n",
    "df"
   ]
  },
  {
   "cell_type": "markdown",
   "id": "f4f998da-9946-4e58-999a-13bdb9694fca",
   "metadata": {},
   "source": [
    "## Computations based on manual input"
   ]
  },
  {
   "cell_type": "code",
   "execution_count": null,
   "id": "868d0e09-1faf-447e-8934-8fd07e8d0cce",
   "metadata": {},
   "outputs": [],
   "source": [
    "columns_uren = [col for col in df.columns if col.startswith('uren')]\n",
    "columns_bedrag = ['bedrag_' + col.split('_')[1] for col in columns_uren]\n",
    "\n",
    "for col_uur, col_bedrag in zip(columns_uren, columns_bedrag):\n",
    "    df[col_bedrag] = df[col_uur] * df['uur_loon']\n",
    "\n",
    "df['bruto_loon_uren'] = df[columns_bedrag].sum(axis=1)\n",
    "\n",
    "df['bedrag_compensatie_premie_paww'] = df['percentage_compensatie_premie_paww'] * df['bruto_loon_uren']\n",
    "\n",
    "df['totaal_bruto_loon'] = df['bruto_loon_uren'] + df['bedrag_compensatie_premie_paww']\n",
    "\n",
    "df['bedrag_premie_paww'] = df['bruto_loon_uren'] * df['percentage_premie_paww']\n",
    "df['bedrag_pensioen_premie'] = df['bedrag_gewerkt'] * df['percentage_pensioen_premie'] # Probably not correct\n",
    "\n",
    "df['loon_voor_heffingen'] = df['totaal_bruto_loon'] - (df['bedrag_premie_paww'] + df['bedrag_pensioen_premie'])"
   ]
  },
  {
   "cell_type": "markdown",
   "id": "cc85cb11-e4d3-4764-9225-cb2f06f3d3e8",
   "metadata": {},
   "source": [
    "## Post-processing"
   ]
  },
  {
   "cell_type": "markdown",
   "id": "bcde4ab8-9fe7-49e0-a46e-752906985e22",
   "metadata": {},
   "source": [
    "### Formatting"
   ]
  },
  {
   "cell_type": "code",
   "execution_count": null,
   "id": "28fbfee9-b511-49b7-a0d5-b8a467cfeb60",
   "metadata": {},
   "outputs": [],
   "source": [
    "all_columns = [\n",
    "    'jaar_periode',\n",
    "    'uur_loon',\n",
    "    \n",
    "    'uren_feestdag',\n",
    "    'uren_gewerkt',\n",
    "    'uren_vakantie',\n",
    "    \n",
    "    'bedrag_feestdag',\n",
    "    'bedrag_gewerkt',\n",
    "    'bedrag_vakantie',\n",
    "    \n",
    "    'bruto_loon_uren',\n",
    "\n",
    "    'percentage_compensatie_premie_paww',\n",
    "    'bedrag_compensatie_premie_paww',\n",
    "\n",
    "    'totaal_bruto_loon',\n",
    "\n",
    "    'bedrag_premie_paww',\n",
    "    'bedrag_pensioen_premie',\n",
    "\n",
    "    'loon_voor_heffingen'\n",
    "]\n",
    "\n",
    "df[all_columns]"
   ]
  }
 ],
 "metadata": {
  "kernelspec": {
   "display_name": "Python 3 (ipykernel)",
   "language": "python",
   "name": "python3"
  },
  "language_info": {
   "codemirror_mode": {
    "name": "ipython",
    "version": 3
   },
   "file_extension": ".py",
   "mimetype": "text/x-python",
   "name": "python",
   "nbconvert_exporter": "python",
   "pygments_lexer": "ipython3",
   "version": "3.10.11"
  }
 },
 "nbformat": 4,
 "nbformat_minor": 5
}
