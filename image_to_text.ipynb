{
 "cells": [
  {
   "cell_type": "markdown",
   "id": "1fb3b4d8-e7ea-4fd4-bf01-fed7c015909b",
   "metadata": {},
   "source": [
    "## Imports"
   ]
  },
  {
   "cell_type": "code",
   "execution_count": 42,
   "id": "1b490983-92f2-412e-9410-80bd30795f25",
   "metadata": {},
   "outputs": [],
   "source": [
    "import os\n",
    "import pytesseract\n",
    "\n",
    "from fpdf import FPDF"
   ]
  },
  {
   "cell_type": "markdown",
   "id": "bd9d06aa-a392-4a00-84f5-cb3cb0f5e15f",
   "metadata": {},
   "source": [
    "## Functions"
   ]
  },
  {
   "cell_type": "code",
   "execution_count": 31,
   "id": "69879a4c-7a2f-4104-a0e7-6c6a2bf1dd2b",
   "metadata": {},
   "outputs": [],
   "source": [
    "def export_to_text_file(\n",
    "    strings_list: list[str],\n",
    "    relative_dir_path: str,\n",
    "    file_name: str,\n",
    ") -> None:\n",
    "    \"\"\"\n",
    "    Exports a list of strings to a text file, with each string written on a new line.\n",
    "\n",
    "    Args:\n",
    "        strings_list (list[str]): A list of strings to be written to the file.\n",
    "        relative_dir_path (str): Relative path to the directory where you want to\n",
    "            export the .txt file to.\n",
    "        filename (str): The name of the file (including the path if necessary) \n",
    "            where the list will be saved.\n",
    "\n",
    "    Returns:\n",
    "        None: This function does not return a value, it writes the strings to a file.\n",
    "\n",
    "    Example:\n",
    "        >>> export_to_textfile([\"Hello\", \"World\"], \"output.txt\")\n",
    "        # This will create a file 'output.txt' with \"Hello\" and \"World\" on separate lines.\n",
    "    \"\"\"\n",
    "    with open(file_name, 'w') as file:\n",
    "        for string in strings_list:\n",
    "            relative_file_path = \"/\".join([relative_dir_path, string])\n",
    "            file.write(relative_file_path + '\\n')\n",
    "    print(f\"List successfully written to {relative_file_path}\")"
   ]
  },
  {
   "cell_type": "code",
   "execution_count": 32,
   "id": "0e5055bb-0eb9-49eb-95b7-2f3406e652ee",
   "metadata": {},
   "outputs": [],
   "source": [
    "def export_long_string_to_file(\n",
    "    long_string: str, \n",
    "    relative_dir_path: str,\n",
    "    file_name: str\n",
    ") -> None:\n",
    "    \"\"\"\n",
    "    Exports a long string to a text file.\n",
    "\n",
    "    Args:\n",
    "        long_string (str): The long string to be written to the file.\n",
    "        filename (str): The name of the file (including the path if necessary) where the string will be saved.\n",
    "\n",
    "    Returns:\n",
    "        None: This function does not return a value, it writes the string to the file.\n",
    "\n",
    "    Example:\n",
    "        >>> export_long_string_to_file(\"This is a very long string...\", \"output.txt\")\n",
    "        # This will create a file 'output.txt' with the content of the long string.\n",
    "    \"\"\"\n",
    "    relative_file_path = \"/\".join([relative_dir_path, file_name])\n",
    "    with open(relative_file_path, 'w') as file:\n",
    "        file.write(long_string)\n",
    "    print(f\"String successfully written to {file_name}\")"
   ]
  },
  {
   "cell_type": "code",
   "execution_count": 60,
   "id": "bc49f80e-e8a7-42c3-9db2-eb22e1464403",
   "metadata": {},
   "outputs": [],
   "source": [
    "def text_to_pdf(\n",
    "    relative_dir_path: str,\n",
    "    input_file_name: str,\n",
    "    output_file_name: str\n",
    ") -> None:\n",
    "    \"\"\"\n",
    "    Converts a text document to a PDF document.\n",
    "\n",
    "    Args:\n",
    "        input_file (str): The path to the input text file.\n",
    "        output_file (str): The path to the output PDF file.\n",
    "\n",
    "    Returns:\n",
    "        None: This function does not return a value. It writes the PDF to the specified output file.\n",
    "    \n",
    "    Raises:\n",
    "        FileNotFoundError: If the input file is not found.\n",
    "        IOError: If there's an error writing to the output file.\n",
    "    \"\"\"\n",
    "    try:\n",
    "        input_file_path = \"/\".join([relative_dir_path, input_file_name])\n",
    "        output_file_path = \"/\".join([relative_dir_path, output_file_name])\n",
    "                                   \n",
    "        # Open and read the input text file\n",
    "        with open(input_file_path, 'r', encoding='iso-8859-1') as file:\n",
    "            text = file.readlines()\n",
    "\n",
    "        # Create an FPDF object\n",
    "        pdf = FPDF()\n",
    "        pdf.set_auto_page_break(auto=True, margin=15)\n",
    "        pdf.add_page()\n",
    "\n",
    "        # Set font: Arial, size 12\n",
    "        pdf.set_font('Arial', size=12)\n",
    "\n",
    "        # Add each line of text to the PDF\n",
    "        for line in text:\n",
    "            pdf.multi_cell(0, 10, line)\n",
    "\n",
    "        # Output the PDF to the specified file\n",
    "        pdf.output(output_file_path)\n",
    "        print(f\"PDF successfully created: {output_file_path}\")\n",
    "    \n",
    "    except FileNotFoundError:\n",
    "        raise FileNotFoundError(f\"The input file {input_file_path} was not found.\")\n",
    "    \n",
    "    except IOError as e:\n",
    "        raise IOError(f\"Error writing the output file {output_file_path}: {e}\")\n"
   ]
  },
  {
   "cell_type": "markdown",
   "id": "79983a0a-5540-4948-8b8e-503953ff2694",
   "metadata": {},
   "source": [
    "## Setup"
   ]
  },
  {
   "cell_type": "code",
   "execution_count": 40,
   "id": "f3bf8889-9345-4a7a-ac8f-14554ee5fd19",
   "metadata": {},
   "outputs": [],
   "source": [
    "relative_dir_path = \"data/institutions_of_the_european_union_images\"\n",
    "allowed_file_extensions = [\"jpg\"]\n",
    "list_of_images_file_name = \"list_of_image_files.txt\"\n",
    "output_txt_file_name = \"all_text.txt\"\n",
    "output_pdf_file_name = \"all_text.pdf\""
   ]
  },
  {
   "cell_type": "code",
   "execution_count": 34,
   "id": "eeb1ff26-5109-49ed-bdcd-45a9f64a8b35",
   "metadata": {},
   "outputs": [],
   "source": [
    "relative_file_paths = [\n",
    "    x for x in os.listdir(relative_dir_path)\n",
    "    if x.split('.')[-1] in allowed_file_extensions\n",
    "]"
   ]
  },
  {
   "cell_type": "code",
   "execution_count": 35,
   "id": "9b1bb4b5-422c-460c-b413-885926bd26bb",
   "metadata": {},
   "outputs": [
    {
     "name": "stdout",
     "output_type": "stream",
     "text": [
      "List successfully written to data/institutions_of_the_european_union_images/H17-8.jpg\n"
     ]
    }
   ],
   "source": [
    "export_to_text_file(\n",
    "    strings_list=relative_file_paths,\n",
    "    relative_dir_path=relative_dir_path,\n",
    "    file_name=list_of_images_file_name\n",
    ")"
   ]
  },
  {
   "cell_type": "markdown",
   "id": "ddc4a3b5-8644-450d-94d6-eea76da693d0",
   "metadata": {},
   "source": [
    "## Convert to images to text and export to .txt file"
   ]
  },
  {
   "cell_type": "code",
   "execution_count": 36,
   "id": "d64080c6-5b3d-45e5-b0b6-0aefd2dad9d7",
   "metadata": {},
   "outputs": [
    {
     "name": "stdout",
     "output_type": "stream",
     "text": [
      "String successfully written to all_text.txt\n"
     ]
    }
   ],
   "source": [
    "export_long_string_to_file(\n",
    "    long_string = pytesseract.image_to_string(\"/\".join([relative_dir_path, list_of_images_file_name])),\n",
    "    relative_dir_path=relative_dir_path,\n",
    "    file_name=output_txt_file_name\n",
    ")"
   ]
  },
  {
   "cell_type": "markdown",
   "id": "8d7dd4bf-e239-4ac2-a171-6118c73a47a0",
   "metadata": {},
   "source": [
    "## Convert output .txt file to .pdf file"
   ]
  },
  {
   "cell_type": "code",
   "execution_count": 61,
   "id": "ca29ec88-3357-4747-b83d-4592b625d571",
   "metadata": {},
   "outputs": [
    {
     "name": "stdout",
     "output_type": "stream",
     "text": [
      "PDF successfully created: data/institutions_of_the_european_union_images/all_text.pdf\n"
     ]
    }
   ],
   "source": [
    "text_to_pdf(\n",
    "    relative_dir_path=relative_dir_path,\n",
    "    input_file_name=output_txt_file_name,\n",
    "    output_file_name=output_pdf_file_name\n",
    ")"
   ]
  }
 ],
 "metadata": {
  "kernelspec": {
   "display_name": "Python 3 (ipykernel)",
   "language": "python",
   "name": "python3"
  },
  "language_info": {
   "codemirror_mode": {
    "name": "ipython",
    "version": 3
   },
   "file_extension": ".py",
   "mimetype": "text/x-python",
   "name": "python",
   "nbconvert_exporter": "python",
   "pygments_lexer": "ipython3",
   "version": "3.10.11"
  }
 },
 "nbformat": 4,
 "nbformat_minor": 5
}
